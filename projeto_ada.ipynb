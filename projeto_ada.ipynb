{
 "cells": [
  {
   "cell_type": "code",
   "execution_count": 177,
   "metadata": {},
   "outputs": [],
   "source": [
    "import numpy as np\n",
    "\n",
    "def simular_dados(njogos:int) -> np.ndarray:\n",
    "    '''\n",
    "    1- recebe um objeto int\n",
    "    2- simula n-jogos duas vezes\n",
    "    3- retorna a soma dos resultados em um objeto ndarray\n",
    "    '''\n",
    "    return np.random.randint(1, 7, njogos) + np.random.randint(1, 7, njogos)"
   ]
  },
  {
   "cell_type": "code",
   "execution_count": 176,
   "metadata": {},
   "outputs": [],
   "source": [
    "def analise_dados(array:np.ndarray) -> None:\n",
    "    '''\n",
    "    1- recebe um objeto ndarray\n",
    "    2- calcula a média, mínimo, máximo e a frequêcia dos valores\n",
    "    3- imprime os resultados\n",
    "    '''\n",
    "    media = np.mean(array)\n",
    "    minimo = np.min(array)\n",
    "    maximo = np.max(array)\n",
    "    valores, contagens = np.unique(array, return_counts=True) # retorna os valores únicos e a contagem de n-vezes que o valor aparece\n",
    "    nvezes = np.column_stack((valores, contagens)) # junta em um objeto ndarray os valores únicos e a contagem de n-vezes que o valor aparece\n",
    "    print(f'Média: {media:.2f}\\n'\n",
    "          f'Mínimo: {minimo}\\n'\n",
    "          f'Máximo: {maximo}\\n\\n'\n",
    "          f'n-vezes possível lançamento:\\n{nvezes}')"
   ]
  },
  {
   "cell_type": "code",
   "execution_count": 181,
   "metadata": {},
   "outputs": [
    {
     "name": "stdout",
     "output_type": "stream",
     "text": [
      "Média: 7.03\n",
      "Mínimo: 2\n",
      "Máximo: 12\n",
      "\n",
      "n-vezes possível lançamento:\n",
      "[[  2  31]\n",
      " [  3  56]\n",
      " [  4  81]\n",
      " [  5 104]\n",
      " [  6 126]\n",
      " [  7 172]\n",
      " [  8 157]\n",
      " [  9 109]\n",
      " [ 10  75]\n",
      " [ 11  57]\n",
      " [ 12  32]]\n"
     ]
    }
   ],
   "source": [
    "jogos = simular_dados(1000)\n",
    "analise_dados(jogos)"
   ]
  }
 ],
 "metadata": {
  "kernelspec": {
   "display_name": "base",
   "language": "python",
   "name": "python3"
  },
  "language_info": {
   "codemirror_mode": {
    "name": "ipython",
    "version": 3
   },
   "file_extension": ".py",
   "mimetype": "text/x-python",
   "name": "python",
   "nbconvert_exporter": "python",
   "pygments_lexer": "ipython3",
   "version": "3.11.4"
  }
 },
 "nbformat": 4,
 "nbformat_minor": 2
}
